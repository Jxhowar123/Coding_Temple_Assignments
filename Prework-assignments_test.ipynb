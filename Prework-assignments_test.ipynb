{
 "cells": [
  {
   "cell_type": "code",
   "execution_count": 57,
   "id": "49c040f2",
   "metadata": {},
   "outputs": [
    {
     "name": "stdout",
     "output_type": "stream",
     "text": [
      "Hello_USERNAME!\n"
     ]
    }
   ],
   "source": [
    "\"\"\"(1) Write a function to print \"hello_USERNAME!\" USERNAME is the input of the function. \n",
    "The first line of the code has been defined as below.\"\"\"\n",
    "\n",
    "def hello_name(user_name):\n",
    "    print(\"Hello_\" + user_name.upper() + \"!\")\n",
    "hello_name(\"username\")\n"
   ]
  },
  {
   "cell_type": "code",
   "execution_count": 61,
   "id": "5b2f9d67",
   "metadata": {},
   "outputs": [
    {
     "name": "stdout",
     "output_type": "stream",
     "text": [
      "1\n",
      "3\n",
      "5\n",
      "7\n",
      "9\n",
      "11\n",
      "13\n",
      "15\n",
      "17\n",
      "19\n",
      "21\n",
      "23\n",
      "25\n",
      "27\n",
      "29\n",
      "31\n",
      "33\n",
      "35\n",
      "37\n",
      "39\n",
      "41\n",
      "43\n",
      "45\n",
      "47\n",
      "49\n",
      "51\n",
      "53\n",
      "55\n",
      "57\n",
      "59\n",
      "61\n",
      "63\n",
      "65\n",
      "67\n",
      "69\n",
      "71\n",
      "73\n",
      "75\n",
      "77\n",
      "79\n",
      "81\n",
      "83\n",
      "85\n",
      "87\n",
      "89\n",
      "91\n",
      "93\n",
      "95\n",
      "97\n",
      "99\n"
     ]
    }
   ],
   "source": [
    "\"\"\" (2) Write a python function, first_odds that prints the odd numbers \n",
    "from 1-100 and returns nothing\"\"\"\n",
    "\n",
    "def first_odds():\n",
    "    x=0\n",
    "    while x <= 99:\n",
    "        x += 1\n",
    "        if x %2 == 0:\n",
    "            continue \n",
    "        print(x)\n",
    "first_odds()"
   ]
  },
  {
   "cell_type": "code",
   "execution_count": 63,
   "id": "3f87118e",
   "metadata": {},
   "outputs": [
    {
     "name": "stdout",
     "output_type": "stream",
     "text": [
      "99\n"
     ]
    }
   ],
   "source": [
    "\"\"\"(3) Please write a Python function, max_num_in_list to return the max number of a given list. \n",
    "The first line of the code has been defined as below.\"\"\"\n",
    "\n",
    "def max_num_in_list(a_list):\n",
    "    max = list1[0]  \n",
    "    for x in list1:\n",
    "        if x > max:\n",
    "            max = x\n",
    "    return max\n",
    "\n",
    "list1 = [99,1,2,3,4]\n",
    "print(max_num_in_list(list1))"
   ]
  },
  {
   "cell_type": "code",
   "execution_count": 59,
   "id": "171eeded",
   "metadata": {},
   "outputs": [
    {
     "data": {
      "text/plain": [
       "True"
      ]
     },
     "execution_count": 59,
     "metadata": {},
     "output_type": "execute_result"
    }
   ],
   "source": [
    "\"\"\"(4) Write a function to return if the given year is a leap year. A leap year is divisible by 4, \n",
    "but not divisible by 100, unless it is also divisible by 400. The return should be boolean Type (true/false).\"\"\"\n",
    "\n",
    "def is_leap(year):\n",
    "  leap = False\n",
    "\n",
    "  if (year % 4 == 0) and (year % 100 != 0): \n",
    "      leap = True\n",
    "  elif (year % 100 == 0) and (year % 400 != 0):\n",
    "      leap = False\n",
    "  elif (year % 400 == 0):\n",
    "      leap = True\n",
    "  else:\n",
    "      leap = False\n",
    "\n",
    "  return leap\n",
    "is_leap(2004)"
   ]
  },
  {
   "cell_type": "code",
   "execution_count": 60,
   "id": "2d30baf4",
   "metadata": {},
   "outputs": [
    {
     "name": "stdout",
     "output_type": "stream",
     "text": [
      "False\n"
     ]
    }
   ],
   "source": [
    "\"\"\"(5) Write a function to check to see if all numbers in list are consecutive numbers. \n",
    "For example, [2,3,4,5,6,7] are consecutive numbers, but [1,2,4,5] are not consecutive numbers. \n",
    "The return should be boolean Type.\"\"\"\n",
    "a_list= [1,2,3,4,5,6,7,8,9,0]\n",
    "def is_consecutive(a_list):\n",
    "    return sorted(a_list) == list(range(min(a_list), max(a_list)+1))\n",
    "test = [2,4,5,6,8,7]\n",
    "print(is_consecutive(test))"
   ]
  }
 ],
 "metadata": {
  "kernelspec": {
   "display_name": "Python 3 (ipykernel)",
   "language": "python",
   "name": "python3"
  },
  "language_info": {
   "codemirror_mode": {
    "name": "ipython",
    "version": 3
   },
   "file_extension": ".py",
   "mimetype": "text/x-python",
   "name": "python",
   "nbconvert_exporter": "python",
   "pygments_lexer": "ipython3",
   "version": "3.10.9"
  }
 },
 "nbformat": 4,
 "nbformat_minor": 5
}
